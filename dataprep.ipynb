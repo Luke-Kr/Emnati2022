{
 "cells": [
  {
   "cell_type": "code",
   "execution_count": 2,
   "metadata": {},
   "outputs": [],
   "source": [
    "import csv\n",
    "import time\n",
    "from geopy.geocoders import Nominatim\n",
    "from geopy.exc import GeocoderTimedOut\n"
   ]
  },
  {
   "cell_type": "code",
   "execution_count": 54,
   "metadata": {},
   "outputs": [],
   "source": [
    "filename = 'mdg_admpop_adm2_2018.csv'\n",
    "madagascar_pop = 30_437_261 # Total population in 2022 (https://www.worldometers.info/world-population/madagascar-population/)"
   ]
  },
  {
   "cell_type": "code",
   "execution_count": 55,
   "metadata": {},
   "outputs": [
    {
     "name": "stdout",
     "output_type": "stream",
     "text": [
      "['\\ufeffADM0_PCODE', 'ADM0_EN', 'ADM1_PCODE', 'ADM1_EN', 'ADM2_PCODE', 'ADM2_EN', 'T_TL']\n",
      "['MG', 'Madagascar', 'MG11', 'Analamanga', 'MG11101001A', '1er Arrondissement', '310355']\n",
      "['MG', 'Madagascar', 'MG11', 'Analamanga', 'MG11101002A', '2e Arrondissement', '239056']\n",
      "['MG', 'Madagascar', 'MG11', 'Analamanga', 'MG11101003A', '3e Arrondissement', '167055']\n",
      "['MG', 'Madagascar', 'MG11', 'Analamanga', 'MG11101004A', '4e Arrondissement', '318488']\n"
     ]
    }
   ],
   "source": [
    "# Read csv file \n",
    "data = list(csv.reader(open(filename, 'r')))\n",
    "\n",
    "# Remove column 6 until 14\n",
    "for i in range(len(data)):\n",
    "    data[i] = data[i][:6] + data[i][15:]\n",
    "\n",
    "\n",
    "# Display the first 5 rows of the csv file\n",
    "for i in range(5):\n",
    "    print(data[i])\n"
   ]
  },
  {
   "cell_type": "code",
   "execution_count": 56,
   "metadata": {},
   "outputs": [
    {
     "name": "stdout",
     "output_type": "stream",
     "text": [
      "Total population: 26696214\n",
      "Madagascar population: 30437261\n",
      "Percentage of Madagascar population: 87.71%\n"
     ]
    }
   ],
   "source": [
    "# Sum the population of all regions at the last column\n",
    "total_population = 0\n",
    "for row in data[1:]:\n",
    "    total_population += int(row[-1])\n",
    "\n",
    "print(f'Total population: {total_population}')\n",
    "print(f'Madagascar population: {madagascar_pop}')\n",
    "print(f'Percentage of Madagascar population: {total_population/madagascar_pop*100:.2f}%')"
   ]
  },
  {
   "cell_type": "code",
   "execution_count": 57,
   "metadata": {},
   "outputs": [
    {
     "name": "stdout",
     "output_type": "stream",
     "text": [
      "['\\ufeffADM0_PCODE', 'ADM0_EN', 'ADM1_PCODE', 'ADM1_EN', 'ADM2_PCODE', 'ADM2_EN', 'T_TL']\n",
      "['MG', 'Madagascar', 'MG11', 'Analamanga', 'MG11101001A', '1er Arrondissement', 353846]\n",
      "['MG', 'Madagascar', 'MG11', 'Analamanga', 'MG11101002A', '2e Arrondissement', 272555]\n",
      "['MG', 'Madagascar', 'MG11', 'Analamanga', 'MG11101003A', '3e Arrondissement', 190465]\n",
      "['MG', 'Madagascar', 'MG11', 'Analamanga', 'MG11101004A', '4e Arrondissement', 363118]\n",
      "Total population: 30437196\n",
      "Madagascar population: 30437261\n",
      "Percentage of Madagascar population: 100.00%\n"
     ]
    }
   ],
   "source": [
    "# Scale the population of all regions to the population of Madagascar\n",
    "new_population = 0\n",
    "for row in data[1:]:\n",
    "    row[-1] = int(int(row[-1]) / total_population * madagascar_pop)\n",
    "    new_population += row[-1]\n",
    "\n",
    "# Display the first 5 rows of the csv file\n",
    "for i in range(5):\n",
    "    print(data[i])\n",
    "\n",
    "print(f'Total population: {new_population}')\n",
    "print(f'Madagascar population: {madagascar_pop}')\n",
    "print(f'Percentage of Madagascar population: {new_population/madagascar_pop*100:.2f}%')"
   ]
  },
  {
   "cell_type": "code",
   "execution_count": 58,
   "metadata": {},
   "outputs": [],
   "source": [
    "# Write the new data to a new csv file\n",
    "with open('mdg_admpop_adm2_2018_scaled.csv', 'w') as f:\n",
    "    writer = csv.writer(f)\n",
    "    writer.writerows(data)"
   ]
  },
  {
   "cell_type": "code",
   "execution_count": null,
   "metadata": {},
   "outputs": [
    {
     "name": "stdout",
     "output_type": "stream",
     "text": [
      "CSV updated with latitude and longitude!\n"
     ]
    }
   ],
   "source": [
    "# Add headers for latitude and longitude\n",
    "data[0].extend([\"Latitude\", \"Longitude\"])  # Assuming first row is headers\n",
    "\n",
    "# Initialize Nominatim geocoder\n",
    "geolocator = Nominatim(user_agent=\"Lukraakman@gmail.com\")\n",
    "\n",
    "# Function to get latitude and longitude\n",
    "def get_lat_lon(place, country=\"Madagascar\"):\n",
    "    try:\n",
    "        location = geolocator.geocode(f\"{place}, {country}\", timeout=10)\n",
    "        if location:\n",
    "            return [location.latitude, location.longitude]\n",
    "    except GeocoderTimedOut:\n",
    "        return [None, None]\n",
    "    return [None, None]\n",
    "\n",
    "# Process each row (skipping header)\n",
    "for row in data[1:]:\n",
    "    adm2_name = row[5]  # Assuming ADM2_EN is the 6th column (index 5)\n",
    "    lat, lon = get_lat_lon(adm2_name)\n",
    "    row.extend([lat, lon])\n",
    "    time.sleep(2)  # To prevent rate-limiting issues\n",
    "\n",
    "# Save the updated list back to CSV\n",
    "with open(\"file_with_coordinates.csv\", \"w\", encoding=\"utf-8\", newline=\"\") as file:\n",
    "    writer = csv.writer(file)\n",
    "    writer.writerows(data)\n",
    "\n",
    "print(\"CSV updated with latitude and longitude!\")"
   ]
  },
  {
   "cell_type": "markdown",
   "metadata": {},
   "source": [
    "Manually check csv-file and fill in missing data"
   ]
  },
  {
   "cell_type": "code",
   "execution_count": 11,
   "metadata": {},
   "outputs": [
    {
     "name": "stdout",
     "output_type": "stream",
     "text": [
      "['\\ufeffADM0_PCODE', 'ADM0_EN', 'ADM1_PCODE', 'ADM1_EN', 'ADM2_PCODE', 'ADM2_EN', 'T_TL', 'Latitude', 'Longitude']\n",
      "['MG', 'Madagascar', 'MG11', 'Analamanga', 'MG11101001A', '1er Arrondissement', '353846', '-18.906071549181178', ' 47.512099521071725']\n",
      "['MG', 'Madagascar', 'MG11', 'Analamanga', 'MG11101002A', '2e Arrondissement', '272555', '-18.92606704738931', ' 47.5498013821388']\n",
      "['MG', 'Madagascar', 'MG11', 'Analamanga', 'MG11101003A', '3e Arrondissement', '190465', '-18.895760608313903', ' 47.52891895256092']\n",
      "['MG', 'Madagascar', 'MG11', 'Analamanga', 'MG11101004A', '4e Arrondissement', '363118', '-18.934043032141478', ' 47.51311939047174']\n",
      "['#name', 'region', 'country', 'latitude', 'longitude', 'location_type', 'conflict_data', 'population']\n",
      "['1er Arrondissement', 'Analamanga', 'Madagascar', '-18.906071549181178', ' 47.512099521071725', '', '', '353846']\n",
      "['2e Arrondissement', 'Analamanga', 'Madagascar', '-18.92606704738931', ' 47.5498013821388', '', '', '272555']\n",
      "['3e Arrondissement', 'Analamanga', 'Madagascar', '-18.895760608313903', ' 47.52891895256092', '', '', '190465']\n",
      "['4e Arrondissement', 'Analamanga', 'Madagascar', '-18.934043032141478', ' 47.51311939047174', '', '', '363118']\n"
     ]
    }
   ],
   "source": [
    "# Load manually updated CSV\n",
    "data = list(csv.reader(open(\"file_with_coordinates++.csv\", \"r\")))\n",
    "for i in range(5):\n",
    "    print(data[i])\n",
    "\n",
    "# Correctly format the data\n",
    "for i in range(len(data)):\n",
    "    data[i] = [data[i][5]] + [data[i][3]] + [data[i][1]] + data[i][7:9] + ['', ''] + [data[i][6]]\n",
    "data[0] = ['#name', 'region', 'country', 'latitude', 'longitude', 'location_type', 'conflict_data', 'population']\n",
    "\n",
    "for i in range(5):\n",
    "    print(data[i])\n",
    "\n",
    "# Save the updated list back to CSV\n",
    "with open(\"locations.csv\", \"w\", encoding=\"utf-8\", newline=\"\") as file:\n",
    "    writer = csv.writer(file)\n",
    "    writer.writerows(data)"
   ]
  }
 ],
 "metadata": {
  "kernelspec": {
   "display_name": "default",
   "language": "python",
   "name": "python3"
  },
  "language_info": {
   "codemirror_mode": {
    "name": "ipython",
    "version": 3
   },
   "file_extension": ".py",
   "mimetype": "text/x-python",
   "name": "python",
   "nbconvert_exporter": "python",
   "pygments_lexer": "ipython3",
   "version": "3.12.3"
  }
 },
 "nbformat": 4,
 "nbformat_minor": 2
}
